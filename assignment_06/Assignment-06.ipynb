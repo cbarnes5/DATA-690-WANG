{
  "cells": [
    {
      "cell_type": "markdown",
      "source": "# Assignment 06\n**Author**: Crista Barnes\n\n**Date**: 3/12/2021",
      "metadata": {
        "tags": [],
        "cell_id": "00000-f775981a-6bd9-4d52-84f5-906527d998fb",
        "deepnote_cell_type": "markdown"
      }
    },
    {
      "cell_type": "markdown",
      "source": "## Retrieve data from webpage ",
      "metadata": {
        "tags": [],
        "cell_id": "00000-33bd789d-2169-4b79-9fc0-f6e15bf673fa",
        "deepnote_cell_type": "markdown"
      }
    },
    {
      "cell_type": "code",
      "metadata": {
        "tags": [],
        "cell_id": "00000-c0328381-6d8d-422f-b9bc-7bbe9c93b1d6",
        "deepnote_to_be_reexecuted": false,
        "source_hash": "bd2a7e32",
        "execution_millis": 175,
        "execution_start": 1615561965906,
        "deepnote_cell_type": "code"
      },
      "source": "import pandas as pd\nhtmltables=pd.read_html(\"https://www.genealogybranches.com/censuscosts.html\")",
      "execution_count": 1,
      "outputs": []
    },
    {
      "cell_type": "markdown",
      "source": "## Determine and define the data of interest ",
      "metadata": {
        "tags": [],
        "cell_id": "00003-0549c894-5900-4e67-b1fe-7e21d5f9a62d",
        "deepnote_cell_type": "markdown"
      }
    },
    {
      "cell_type": "code",
      "metadata": {
        "tags": [],
        "cell_id": "00001-4dcc4dd1-19fb-4fa7-81fc-e27220c3dd96",
        "deepnote_to_be_reexecuted": false,
        "source_hash": "6eefa963",
        "execution_millis": 8,
        "execution_start": 1615561966090,
        "deepnote_cell_type": "code"
      },
      "source": "len(htmltables)\n",
      "execution_count": 2,
      "outputs": [
        {
          "output_type": "execute_result",
          "execution_count": 2,
          "data": {
            "text/plain": "2"
          },
          "metadata": {}
        }
      ]
    },
    {
      "cell_type": "code",
      "metadata": {
        "tags": [],
        "cell_id": "00002-f2b7dde3-c4f0-4052-a0ba-a1238c1a425a",
        "deepnote_to_be_reexecuted": false,
        "source_hash": "812d5b05",
        "execution_millis": 22,
        "execution_start": 1615561966111,
        "deepnote_cell_type": "code"
      },
      "source": "df1=htmltables[0]\ndf1",
      "execution_count": 3,
      "outputs": [
        {
          "output_type": "execute_result",
          "execution_count": 3,
          "data": {
            "application/vnd.deepnote.dataframe.v2+json": {
              "row_count": 24,
              "column_count": 4,
              "columns": [
                {
                  "name": 0,
                  "dtype": "object",
                  "stats": {
                    "unique_count": 24,
                    "nan_count": 0,
                    "categories": [
                      {
                        "name": "Census Year",
                        "count": 1
                      },
                      {
                        "name": "1790",
                        "count": 1
                      },
                      {
                        "name": "22 others",
                        "count": 22
                      }
                    ]
                  }
                },
                {
                  "name": 1,
                  "dtype": "object",
                  "stats": {
                    "unique_count": 24,
                    "nan_count": 0,
                    "categories": [
                      {
                        "name": "Total Population",
                        "count": 1
                      },
                      {
                        "name": "3929214",
                        "count": 1
                      },
                      {
                        "name": "22 others",
                        "count": 22
                      }
                    ]
                  }
                },
                {
                  "name": 2,
                  "dtype": "object",
                  "stats": {
                    "unique_count": 24,
                    "nan_count": 0,
                    "categories": [
                      {
                        "name": "Census Cost",
                        "count": 1
                      },
                      {
                        "name": "$44,377",
                        "count": 1
                      },
                      {
                        "name": "22 others",
                        "count": 22
                      }
                    ]
                  }
                },
                {
                  "name": 3,
                  "dtype": "object",
                  "stats": {
                    "unique_count": 24,
                    "nan_count": 0,
                    "categories": [
                      {
                        "name": "Average Cost Per Person",
                        "count": 1
                      },
                      {
                        "name": "1.13 cents",
                        "count": 1
                      },
                      {
                        "name": "22 others",
                        "count": 22
                      }
                    ]
                  }
                },
                {
                  "name": "_deepnote_index_column",
                  "dtype": "int64"
                }
              ],
              "rows_top": [
                {
                  "0": "Census Year",
                  "1": "Total Population",
                  "2": "Census Cost",
                  "3": "Average Cost Per Person",
                  "_deepnote_index_column": 0
                },
                {
                  "0": "1790",
                  "1": "3929214",
                  "2": "$44,377",
                  "3": "1.13 cents",
                  "_deepnote_index_column": 1
                },
                {
                  "0": "1800",
                  "1": "5308483",
                  "2": "$66,109",
                  "3": "1.24 cents",
                  "_deepnote_index_column": 2
                },
                {
                  "0": "1810",
                  "1": "7239881",
                  "2": "$178,445",
                  "3": "2.46 cents",
                  "_deepnote_index_column": 3
                },
                {
                  "0": "1820",
                  "1": "9633822",
                  "2": "$208,526",
                  "3": "2.16 cents",
                  "_deepnote_index_column": 4
                },
                {
                  "0": "1830",
                  "1": "12866020",
                  "2": "$378,545",
                  "3": "2.94 cents",
                  "_deepnote_index_column": 5
                },
                {
                  "0": "1840",
                  "1": "17069458",
                  "2": "$833,371",
                  "3": "4.88 cents",
                  "_deepnote_index_column": 6
                },
                {
                  "0": "1850",
                  "1": "23191876",
                  "2": "$1,423,351",
                  "3": "6.14 cents",
                  "_deepnote_index_column": 7
                },
                {
                  "0": "1860",
                  "1": "31443321",
                  "2": "$1,969,377",
                  "3": "6.26 cents",
                  "_deepnote_index_column": 8
                },
                {
                  "0": "1870",
                  "1": "38558371",
                  "2": "$3,421,198",
                  "3": "8.87 cents",
                  "_deepnote_index_column": 9
                },
                {
                  "0": "1880",
                  "1": "50155783",
                  "2": "$5,790,678",
                  "3": "11.54 cents",
                  "_deepnote_index_column": 10
                },
                {
                  "0": "1890",
                  "1": "62979766",
                  "2": "$11,547,127",
                  "3": "18.33 cents",
                  "_deepnote_index_column": 11
                },
                {
                  "0": "1900",
                  "1": "76303387",
                  "2": "$11,854,000",
                  "3": "15.54 cents",
                  "_deepnote_index_column": 12
                },
                {
                  "0": "1910",
                  "1": "91972266",
                  "2": "$15,968,000",
                  "3": "17.07 cents",
                  "_deepnote_index_column": 13
                },
                {
                  "0": "1920",
                  "1": "105710620",
                  "2": "$25,117,000",
                  "3": "23.76 cents",
                  "_deepnote_index_column": 14
                },
                {
                  "0": "1930",
                  "1": "122775046",
                  "2": "$40,156,000",
                  "3": "32.71 cents",
                  "_deepnote_index_column": 15
                },
                {
                  "0": "1940",
                  "1": "131669275",
                  "2": "$67,527,000",
                  "3": "51.29 cents",
                  "_deepnote_index_column": 16
                },
                {
                  "0": "1950",
                  "1": "151325798",
                  "2": "$91,462,000",
                  "3": "60.44 cents",
                  "_deepnote_index_column": 17
                },
                {
                  "0": "1960",
                  "1": "179323175",
                  "2": "$127,934,000",
                  "3": "71.34 cents",
                  "_deepnote_index_column": 18
                },
                {
                  "0": "1970",
                  "1": "203302031",
                  "2": "$247,653,000",
                  "3": "$1.22",
                  "_deepnote_index_column": 19
                },
                {
                  "0": "1980",
                  "1": "226542199",
                  "2": "$1,078,488,000",
                  "3": "$4.76",
                  "_deepnote_index_column": 20
                },
                {
                  "0": "1990",
                  "1": "248718301",
                  "2": "$2,492,830,000",
                  "3": "$10.02",
                  "_deepnote_index_column": 21
                },
                {
                  "0": "2000",
                  "1": "281421906",
                  "2": "$4.5 Billion",
                  "3": "$15.99",
                  "_deepnote_index_column": 22
                },
                {
                  "0": "2010*",
                  "1": "308745538",
                  "2": "$13 Billion",
                  "3": "$42.11",
                  "_deepnote_index_column": 23
                }
              ],
              "rows_bottom": null
            },
            "text/plain": "              0                 1               2                        3\n0   Census Year  Total Population     Census Cost  Average Cost Per Person\n1          1790           3929214         $44,377               1.13 cents\n2          1800           5308483         $66,109               1.24 cents\n3          1810           7239881        $178,445               2.46 cents\n4          1820           9633822        $208,526               2.16 cents\n5          1830          12866020        $378,545               2.94 cents\n6          1840          17069458        $833,371               4.88 cents\n7          1850          23191876      $1,423,351               6.14 cents\n8          1860          31443321      $1,969,377               6.26 cents\n9          1870          38558371      $3,421,198               8.87 cents\n10         1880          50155783      $5,790,678              11.54 cents\n11         1890          62979766     $11,547,127              18.33 cents\n12         1900          76303387     $11,854,000              15.54 cents\n13         1910          91972266     $15,968,000              17.07 cents\n14         1920         105710620     $25,117,000              23.76 cents\n15         1930         122775046     $40,156,000              32.71 cents\n16         1940         131669275     $67,527,000              51.29 cents\n17         1950         151325798     $91,462,000              60.44 cents\n18         1960         179323175    $127,934,000              71.34 cents\n19         1970         203302031    $247,653,000                    $1.22\n20         1980         226542199  $1,078,488,000                    $4.76\n21         1990         248718301  $2,492,830,000                   $10.02\n22         2000         281421906    $4.5 Billion                   $15.99\n23        2010*         308745538     $13 Billion                   $42.11",
            "text/html": "<div>\n<style scoped>\n    .dataframe tbody tr th:only-of-type {\n        vertical-align: middle;\n    }\n\n    .dataframe tbody tr th {\n        vertical-align: top;\n    }\n\n    .dataframe thead th {\n        text-align: right;\n    }\n</style>\n<table border=\"1\" class=\"dataframe\">\n  <thead>\n    <tr style=\"text-align: right;\">\n      <th></th>\n      <th>0</th>\n      <th>1</th>\n      <th>2</th>\n      <th>3</th>\n    </tr>\n  </thead>\n  <tbody>\n    <tr>\n      <th>0</th>\n      <td>Census Year</td>\n      <td>Total Population</td>\n      <td>Census Cost</td>\n      <td>Average Cost Per Person</td>\n    </tr>\n    <tr>\n      <th>1</th>\n      <td>1790</td>\n      <td>3929214</td>\n      <td>$44,377</td>\n      <td>1.13 cents</td>\n    </tr>\n    <tr>\n      <th>2</th>\n      <td>1800</td>\n      <td>5308483</td>\n      <td>$66,109</td>\n      <td>1.24 cents</td>\n    </tr>\n    <tr>\n      <th>3</th>\n      <td>1810</td>\n      <td>7239881</td>\n      <td>$178,445</td>\n      <td>2.46 cents</td>\n    </tr>\n    <tr>\n      <th>4</th>\n      <td>1820</td>\n      <td>9633822</td>\n      <td>$208,526</td>\n      <td>2.16 cents</td>\n    </tr>\n    <tr>\n      <th>5</th>\n      <td>1830</td>\n      <td>12866020</td>\n      <td>$378,545</td>\n      <td>2.94 cents</td>\n    </tr>\n    <tr>\n      <th>6</th>\n      <td>1840</td>\n      <td>17069458</td>\n      <td>$833,371</td>\n      <td>4.88 cents</td>\n    </tr>\n    <tr>\n      <th>7</th>\n      <td>1850</td>\n      <td>23191876</td>\n      <td>$1,423,351</td>\n      <td>6.14 cents</td>\n    </tr>\n    <tr>\n      <th>8</th>\n      <td>1860</td>\n      <td>31443321</td>\n      <td>$1,969,377</td>\n      <td>6.26 cents</td>\n    </tr>\n    <tr>\n      <th>9</th>\n      <td>1870</td>\n      <td>38558371</td>\n      <td>$3,421,198</td>\n      <td>8.87 cents</td>\n    </tr>\n    <tr>\n      <th>10</th>\n      <td>1880</td>\n      <td>50155783</td>\n      <td>$5,790,678</td>\n      <td>11.54 cents</td>\n    </tr>\n    <tr>\n      <th>11</th>\n      <td>1890</td>\n      <td>62979766</td>\n      <td>$11,547,127</td>\n      <td>18.33 cents</td>\n    </tr>\n    <tr>\n      <th>12</th>\n      <td>1900</td>\n      <td>76303387</td>\n      <td>$11,854,000</td>\n      <td>15.54 cents</td>\n    </tr>\n    <tr>\n      <th>13</th>\n      <td>1910</td>\n      <td>91972266</td>\n      <td>$15,968,000</td>\n      <td>17.07 cents</td>\n    </tr>\n    <tr>\n      <th>14</th>\n      <td>1920</td>\n      <td>105710620</td>\n      <td>$25,117,000</td>\n      <td>23.76 cents</td>\n    </tr>\n    <tr>\n      <th>15</th>\n      <td>1930</td>\n      <td>122775046</td>\n      <td>$40,156,000</td>\n      <td>32.71 cents</td>\n    </tr>\n    <tr>\n      <th>16</th>\n      <td>1940</td>\n      <td>131669275</td>\n      <td>$67,527,000</td>\n      <td>51.29 cents</td>\n    </tr>\n    <tr>\n      <th>17</th>\n      <td>1950</td>\n      <td>151325798</td>\n      <td>$91,462,000</td>\n      <td>60.44 cents</td>\n    </tr>\n    <tr>\n      <th>18</th>\n      <td>1960</td>\n      <td>179323175</td>\n      <td>$127,934,000</td>\n      <td>71.34 cents</td>\n    </tr>\n    <tr>\n      <th>19</th>\n      <td>1970</td>\n      <td>203302031</td>\n      <td>$247,653,000</td>\n      <td>$1.22</td>\n    </tr>\n    <tr>\n      <th>20</th>\n      <td>1980</td>\n      <td>226542199</td>\n      <td>$1,078,488,000</td>\n      <td>$4.76</td>\n    </tr>\n    <tr>\n      <th>21</th>\n      <td>1990</td>\n      <td>248718301</td>\n      <td>$2,492,830,000</td>\n      <td>$10.02</td>\n    </tr>\n    <tr>\n      <th>22</th>\n      <td>2000</td>\n      <td>281421906</td>\n      <td>$4.5 Billion</td>\n      <td>$15.99</td>\n    </tr>\n    <tr>\n      <th>23</th>\n      <td>2010*</td>\n      <td>308745538</td>\n      <td>$13 Billion</td>\n      <td>$42.11</td>\n    </tr>\n  </tbody>\n</table>\n</div>"
          },
          "metadata": {}
        }
      ]
    },
    {
      "cell_type": "code",
      "metadata": {
        "tags": [],
        "cell_id": "00003-f0614eb0-bd49-475f-a3b5-bd1149fbf531",
        "deepnote_to_be_reexecuted": false,
        "source_hash": "ba66d59d",
        "execution_millis": 23,
        "execution_start": 1615561966160,
        "deepnote_cell_type": "code"
      },
      "source": "df2=htmltables[1]\ndf2",
      "execution_count": 4,
      "outputs": [
        {
          "output_type": "execute_result",
          "execution_count": 4,
          "data": {
            "application/vnd.deepnote.dataframe.v2+json": {
              "row_count": 1,
              "column_count": 1,
              "columns": [
                {
                  "name": 0,
                  "dtype": "object",
                  "stats": {
                    "unique_count": 1,
                    "nan_count": 0,
                    "categories": [
                      {
                        "name": "The U.S. population reached 300,000,000 on 17 October 2006. At the end of 2015, it was at 319,958,045. At the end of 2017, it was at 326,971,209. Source (except 2010)... Gauthier, Jason G., Measuring America: The Decennial Censuses From 1790-2000, (US Bureau of the Census/Dept of Commerce), Washington: US Government Printing Office, 2002, Appendix A, Page A-1.The numbers in the fourth column are not included in the book and were added by me. * The 2010 census cost was taken from GAO (U.S. Government Accountability Office) report number GAO-11-496T, 2010 Census: Preliminary Lessons Learned Highlight the Need for Fundamental Reforms (April 6, 2011): \"At about $13 billion, 2010 was the costliest U.S. Census in history.\" The official census day for 2010 was April 1, 2010. The total population figure (308,745,538) was announced by the U.S. Census Bureau on Dec. 21, 2010. See: 2010 Census - Resident Population Data The 1940 Census 1940 census records were released on April 2, 2012. For details see:1940 Census Records and InformationFor information on census records for other years see: U.S. Census Records 1790-1940",
                        "count": 1
                      }
                    ]
                  }
                },
                {
                  "name": "_deepnote_index_column",
                  "dtype": "int64"
                }
              ],
              "rows_top": [
                {
                  "0": "The U.S. population reached 300,000,000 on 17 October 2006. At the end of 2015, it was at 319,958,045. At the end of 2017, it was at 326,971,209. Source (except 2010)... Gauthier, Jason G., Measuring America: The Decennial Censuses From 1790-2000, (US Bureau of the Census/Dept of Commerce), Washington: US Government Printing Office, 2002, Appendix A, Page A-1.The numbers in the fourth column are not included in the book and were added by me. * The 2010 census cost was taken from GAO (U.S. Government Accountability Office) report number GAO-11-496T, 2010 Census: Preliminary Lessons Learned Highlight the Need for Fundamental Reforms (April 6, 2011): \"At about $13 billion, 2010 was the costliest U.S. Census in history.\" The official census day for 2010 was April 1, 2010. The total population figure (308,745,538) was announced by the U.S. Census Bureau on Dec. 21, 2010. See: 2010 Census - Resident Population Data The 1940 Census 1940 census records were released on April 2, 2012. For details see:1940 Census Records and InformationFor information on census records for other years see: U.S. Census Records 1790-1940",
                  "_deepnote_index_column": 0
                }
              ],
              "rows_bottom": null
            },
            "text/plain": "                                                   0\n0  The U.S. population reached 300,000,000 on 17 ...",
            "text/html": "<div>\n<style scoped>\n    .dataframe tbody tr th:only-of-type {\n        vertical-align: middle;\n    }\n\n    .dataframe tbody tr th {\n        vertical-align: top;\n    }\n\n    .dataframe thead th {\n        text-align: right;\n    }\n</style>\n<table border=\"1\" class=\"dataframe\">\n  <thead>\n    <tr style=\"text-align: right;\">\n      <th></th>\n      <th>0</th>\n    </tr>\n  </thead>\n  <tbody>\n    <tr>\n      <th>0</th>\n      <td>The U.S. population reached 300,000,000 on 17 ...</td>\n    </tr>\n  </tbody>\n</table>\n</div>"
          },
          "metadata": {}
        }
      ]
    },
    {
      "cell_type": "markdown",
      "source": "The first table retrieved from the webpage contains the desired data. The data quality issues in the table include:\n- The first row should be the column names\n- The * character in the last row of the first column \n- The $ and , characters in the third column\n- Values in the third column using words not numbers (ie. 4.5 billion instead of 450000000)\n- Values in the forth column being described as both cents and dollars\n- The $ character in the forth column\n- The word 'cents' in the forth column ",
      "metadata": {
        "tags": [],
        "cell_id": "00004-4d6d0eb1-5b1e-4160-9491-10ffbb40aa12",
        "deepnote_cell_type": "markdown"
      }
    },
    {
      "cell_type": "code",
      "metadata": {
        "tags": [],
        "cell_id": "00005-25ad5a76-51b8-494e-b8c0-f3f347a446af",
        "deepnote_to_be_reexecuted": false,
        "source_hash": "4da2f5d5",
        "execution_millis": 31,
        "execution_start": 1615561966170,
        "deepnote_cell_type": "code"
      },
      "source": "# Replace the column names with the first row\ncolnames=df1.iloc[0]\ndf1=df1[1:]\ndf1.columns=colnames\ndf1.head()",
      "execution_count": 5,
      "outputs": [
        {
          "output_type": "execute_result",
          "execution_count": 5,
          "data": {
            "application/vnd.deepnote.dataframe.v2+json": {
              "row_count": 5,
              "column_count": 4,
              "columns": [
                {
                  "name": "Census Year",
                  "dtype": "object",
                  "stats": {
                    "unique_count": 5,
                    "nan_count": 0,
                    "categories": [
                      {
                        "name": "1790",
                        "count": 1
                      },
                      {
                        "name": "1800",
                        "count": 1
                      },
                      {
                        "name": "3 others",
                        "count": 3
                      }
                    ]
                  }
                },
                {
                  "name": "Total Population",
                  "dtype": "object",
                  "stats": {
                    "unique_count": 5,
                    "nan_count": 0,
                    "categories": [
                      {
                        "name": "3929214",
                        "count": 1
                      },
                      {
                        "name": "5308483",
                        "count": 1
                      },
                      {
                        "name": "3 others",
                        "count": 3
                      }
                    ]
                  }
                },
                {
                  "name": "Census Cost",
                  "dtype": "object",
                  "stats": {
                    "unique_count": 5,
                    "nan_count": 0,
                    "categories": [
                      {
                        "name": "$44,377",
                        "count": 1
                      },
                      {
                        "name": "$66,109",
                        "count": 1
                      },
                      {
                        "name": "3 others",
                        "count": 3
                      }
                    ]
                  }
                },
                {
                  "name": "Average Cost Per Person",
                  "dtype": "object",
                  "stats": {
                    "unique_count": 5,
                    "nan_count": 0,
                    "categories": [
                      {
                        "name": "1.13 cents",
                        "count": 1
                      },
                      {
                        "name": "1.24 cents",
                        "count": 1
                      },
                      {
                        "name": "3 others",
                        "count": 3
                      }
                    ]
                  }
                },
                {
                  "name": "_deepnote_index_column",
                  "dtype": "int64"
                }
              ],
              "rows_top": [
                {
                  "Census Year": "1790",
                  "Total Population": "3929214",
                  "Census Cost": "$44,377",
                  "Average Cost Per Person": "1.13 cents",
                  "_deepnote_index_column": 1
                },
                {
                  "Census Year": "1800",
                  "Total Population": "5308483",
                  "Census Cost": "$66,109",
                  "Average Cost Per Person": "1.24 cents",
                  "_deepnote_index_column": 2
                },
                {
                  "Census Year": "1810",
                  "Total Population": "7239881",
                  "Census Cost": "$178,445",
                  "Average Cost Per Person": "2.46 cents",
                  "_deepnote_index_column": 3
                },
                {
                  "Census Year": "1820",
                  "Total Population": "9633822",
                  "Census Cost": "$208,526",
                  "Average Cost Per Person": "2.16 cents",
                  "_deepnote_index_column": 4
                },
                {
                  "Census Year": "1830",
                  "Total Population": "12866020",
                  "Census Cost": "$378,545",
                  "Average Cost Per Person": "2.94 cents",
                  "_deepnote_index_column": 5
                }
              ],
              "rows_bottom": null
            },
            "text/plain": "0 Census Year Total Population Census Cost Average Cost Per Person\n1        1790          3929214     $44,377              1.13 cents\n2        1800          5308483     $66,109              1.24 cents\n3        1810          7239881    $178,445              2.46 cents\n4        1820          9633822    $208,526              2.16 cents\n5        1830         12866020    $378,545              2.94 cents",
            "text/html": "<div>\n<style scoped>\n    .dataframe tbody tr th:only-of-type {\n        vertical-align: middle;\n    }\n\n    .dataframe tbody tr th {\n        vertical-align: top;\n    }\n\n    .dataframe thead th {\n        text-align: right;\n    }\n</style>\n<table border=\"1\" class=\"dataframe\">\n  <thead>\n    <tr style=\"text-align: right;\">\n      <th></th>\n      <th>Census Year</th>\n      <th>Total Population</th>\n      <th>Census Cost</th>\n      <th>Average Cost Per Person</th>\n    </tr>\n  </thead>\n  <tbody>\n    <tr>\n      <th>1</th>\n      <td>1790</td>\n      <td>3929214</td>\n      <td>$44,377</td>\n      <td>1.13 cents</td>\n    </tr>\n    <tr>\n      <th>2</th>\n      <td>1800</td>\n      <td>5308483</td>\n      <td>$66,109</td>\n      <td>1.24 cents</td>\n    </tr>\n    <tr>\n      <th>3</th>\n      <td>1810</td>\n      <td>7239881</td>\n      <td>$178,445</td>\n      <td>2.46 cents</td>\n    </tr>\n    <tr>\n      <th>4</th>\n      <td>1820</td>\n      <td>9633822</td>\n      <td>$208,526</td>\n      <td>2.16 cents</td>\n    </tr>\n    <tr>\n      <th>5</th>\n      <td>1830</td>\n      <td>12866020</td>\n      <td>$378,545</td>\n      <td>2.94 cents</td>\n    </tr>\n  </tbody>\n</table>\n</div>"
          },
          "metadata": {}
        }
      ]
    },
    {
      "cell_type": "markdown",
      "source": "## Create a function to cleanse the first column, test and apply",
      "metadata": {
        "tags": [],
        "cell_id": "00009-4637b238-1674-412b-b11c-50395cf0434a",
        "deepnote_cell_type": "markdown"
      }
    },
    {
      "cell_type": "code",
      "metadata": {
        "tags": [],
        "cell_id": "00005-8a9b63be-0772-421e-bc6b-89b2442aec37",
        "deepnote_to_be_reexecuted": false,
        "source_hash": "63fb96b4",
        "execution_millis": 24,
        "execution_start": 1615561966207,
        "deepnote_cell_type": "code"
      },
      "source": "def cleanse_year(year):\n    year=year.replace('*', '')\n    return(year)\n\n# Test funciton  \nprint(cleanse_year('1989*'))\nprint(cleanse_year('20*10'))",
      "execution_count": 6,
      "outputs": [
        {
          "name": "stdout",
          "text": "1989\n2010\n",
          "output_type": "stream"
        }
      ]
    },
    {
      "cell_type": "code",
      "metadata": {
        "tags": [],
        "cell_id": "00006-ff2c8db8-9b8a-4fd7-81e1-8ec9fc623b27",
        "deepnote_to_be_reexecuted": false,
        "source_hash": "5b964192",
        "execution_millis": 42,
        "execution_start": 1615561966228,
        "deepnote_cell_type": "code"
      },
      "source": "# Create new Dataframe for cleansed data\ndfc=pd.DataFrame()\ndfc[\"Census Year\"] = df1[\"Census Year\"].apply(cleanse_year)\ndfc.head()",
      "execution_count": 7,
      "outputs": [
        {
          "output_type": "execute_result",
          "execution_count": 7,
          "data": {
            "application/vnd.deepnote.dataframe.v2+json": {
              "row_count": 5,
              "column_count": 1,
              "columns": [
                {
                  "name": "Census Year",
                  "dtype": "object",
                  "stats": {
                    "unique_count": 5,
                    "nan_count": 0,
                    "categories": [
                      {
                        "name": "1790",
                        "count": 1
                      },
                      {
                        "name": "1800",
                        "count": 1
                      },
                      {
                        "name": "3 others",
                        "count": 3
                      }
                    ]
                  }
                },
                {
                  "name": "_deepnote_index_column",
                  "dtype": "int64"
                }
              ],
              "rows_top": [
                {
                  "Census Year": "1790",
                  "_deepnote_index_column": 1
                },
                {
                  "Census Year": "1800",
                  "_deepnote_index_column": 2
                },
                {
                  "Census Year": "1810",
                  "_deepnote_index_column": 3
                },
                {
                  "Census Year": "1820",
                  "_deepnote_index_column": 4
                },
                {
                  "Census Year": "1830",
                  "_deepnote_index_column": 5
                }
              ],
              "rows_bottom": null
            },
            "text/plain": "  Census Year\n1        1790\n2        1800\n3        1810\n4        1820\n5        1830",
            "text/html": "<div>\n<style scoped>\n    .dataframe tbody tr th:only-of-type {\n        vertical-align: middle;\n    }\n\n    .dataframe tbody tr th {\n        vertical-align: top;\n    }\n\n    .dataframe thead th {\n        text-align: right;\n    }\n</style>\n<table border=\"1\" class=\"dataframe\">\n  <thead>\n    <tr style=\"text-align: right;\">\n      <th></th>\n      <th>Census Year</th>\n    </tr>\n  </thead>\n  <tbody>\n    <tr>\n      <th>1</th>\n      <td>1790</td>\n    </tr>\n    <tr>\n      <th>2</th>\n      <td>1800</td>\n    </tr>\n    <tr>\n      <th>3</th>\n      <td>1810</td>\n    </tr>\n    <tr>\n      <th>4</th>\n      <td>1820</td>\n    </tr>\n    <tr>\n      <th>5</th>\n      <td>1830</td>\n    </tr>\n  </tbody>\n</table>\n</div>"
          },
          "metadata": {}
        }
      ]
    },
    {
      "cell_type": "markdown",
      "source": "Since the Total Population column requires no cleansing, it will be added to the cleansed dataframe as is",
      "metadata": {
        "tags": [],
        "cell_id": "00008-5ca1fdb0-5210-4821-892b-cff20b485725",
        "deepnote_cell_type": "markdown"
      }
    },
    {
      "cell_type": "code",
      "metadata": {
        "tags": [],
        "cell_id": "00009-e65b618e-0e33-4b44-b036-ee27f7bc74d6",
        "deepnote_to_be_reexecuted": false,
        "source_hash": "871eb284",
        "execution_millis": 46,
        "execution_start": 1615561966268,
        "deepnote_cell_type": "code"
      },
      "source": "dfc['Total Population']=df1['Total Population']\ndfc.head()",
      "execution_count": 8,
      "outputs": [
        {
          "output_type": "execute_result",
          "execution_count": 8,
          "data": {
            "application/vnd.deepnote.dataframe.v2+json": {
              "row_count": 5,
              "column_count": 2,
              "columns": [
                {
                  "name": "Census Year",
                  "dtype": "object",
                  "stats": {
                    "unique_count": 5,
                    "nan_count": 0,
                    "categories": [
                      {
                        "name": "1790",
                        "count": 1
                      },
                      {
                        "name": "1800",
                        "count": 1
                      },
                      {
                        "name": "3 others",
                        "count": 3
                      }
                    ]
                  }
                },
                {
                  "name": "Total Population",
                  "dtype": "object",
                  "stats": {
                    "unique_count": 5,
                    "nan_count": 0,
                    "categories": [
                      {
                        "name": "3929214",
                        "count": 1
                      },
                      {
                        "name": "5308483",
                        "count": 1
                      },
                      {
                        "name": "3 others",
                        "count": 3
                      }
                    ]
                  }
                },
                {
                  "name": "_deepnote_index_column",
                  "dtype": "int64"
                }
              ],
              "rows_top": [
                {
                  "Census Year": "1790",
                  "Total Population": "3929214",
                  "_deepnote_index_column": 1
                },
                {
                  "Census Year": "1800",
                  "Total Population": "5308483",
                  "_deepnote_index_column": 2
                },
                {
                  "Census Year": "1810",
                  "Total Population": "7239881",
                  "_deepnote_index_column": 3
                },
                {
                  "Census Year": "1820",
                  "Total Population": "9633822",
                  "_deepnote_index_column": 4
                },
                {
                  "Census Year": "1830",
                  "Total Population": "12866020",
                  "_deepnote_index_column": 5
                }
              ],
              "rows_bottom": null
            },
            "text/plain": "  Census Year Total Population\n1        1790          3929214\n2        1800          5308483\n3        1810          7239881\n4        1820          9633822\n5        1830         12866020",
            "text/html": "<div>\n<style scoped>\n    .dataframe tbody tr th:only-of-type {\n        vertical-align: middle;\n    }\n\n    .dataframe tbody tr th {\n        vertical-align: top;\n    }\n\n    .dataframe thead th {\n        text-align: right;\n    }\n</style>\n<table border=\"1\" class=\"dataframe\">\n  <thead>\n    <tr style=\"text-align: right;\">\n      <th></th>\n      <th>Census Year</th>\n      <th>Total Population</th>\n    </tr>\n  </thead>\n  <tbody>\n    <tr>\n      <th>1</th>\n      <td>1790</td>\n      <td>3929214</td>\n    </tr>\n    <tr>\n      <th>2</th>\n      <td>1800</td>\n      <td>5308483</td>\n    </tr>\n    <tr>\n      <th>3</th>\n      <td>1810</td>\n      <td>7239881</td>\n    </tr>\n    <tr>\n      <th>4</th>\n      <td>1820</td>\n      <td>9633822</td>\n    </tr>\n    <tr>\n      <th>5</th>\n      <td>1830</td>\n      <td>12866020</td>\n    </tr>\n  </tbody>\n</table>\n</div>"
          },
          "metadata": {}
        }
      ]
    },
    {
      "cell_type": "markdown",
      "source": "## Create a function to cleanse the third column, test, and apply",
      "metadata": {
        "tags": [],
        "cell_id": "00014-611b53b2-0acb-49a5-9d3f-2170b1cb8afe",
        "deepnote_cell_type": "markdown"
      }
    },
    {
      "cell_type": "code",
      "metadata": {
        "tags": [],
        "cell_id": "00009-199ec5ed-0bd0-4c13-976b-fd5153a9e4cc",
        "deepnote_to_be_reexecuted": false,
        "source_hash": "1b94a128",
        "execution_millis": 56,
        "execution_start": 1615561966315,
        "deepnote_cell_type": "code"
      },
      "source": "def cleanse_cost(cost):\n    cost=cost.replace(',','')\n    cost=cost.replace('$','')\n    if 'Billion' in cost:\n        cost=cost.replace(' Billion','')\n        cost=str(int(float(cost)*1000000000))\n    return(cost)\n\n# Test the function\nprint(cleanse_cost('$1,000'))\nprint(cleanse_cost('$1.2 Billion'))",
      "execution_count": 9,
      "outputs": [
        {
          "name": "stdout",
          "text": "1000\n1200000000\n",
          "output_type": "stream"
        }
      ]
    },
    {
      "cell_type": "code",
      "metadata": {
        "tags": [],
        "cell_id": "00010-41788481-f63d-43ce-9774-c94755a098b2",
        "deepnote_to_be_reexecuted": false,
        "source_hash": "da94657",
        "execution_millis": 102,
        "execution_start": 1615561966369,
        "deepnote_cell_type": "code"
      },
      "source": "# Add the cleansed data to the new dataframe with .apply() \ndfc['Census Cost']=df1['Census Cost'].apply(cleanse_cost)\ndfc.head()",
      "execution_count": 10,
      "outputs": [
        {
          "output_type": "execute_result",
          "execution_count": 10,
          "data": {
            "application/vnd.deepnote.dataframe.v2+json": {
              "row_count": 5,
              "column_count": 3,
              "columns": [
                {
                  "name": "Census Year",
                  "dtype": "object",
                  "stats": {
                    "unique_count": 5,
                    "nan_count": 0,
                    "categories": [
                      {
                        "name": "1790",
                        "count": 1
                      },
                      {
                        "name": "1800",
                        "count": 1
                      },
                      {
                        "name": "3 others",
                        "count": 3
                      }
                    ]
                  }
                },
                {
                  "name": "Total Population",
                  "dtype": "object",
                  "stats": {
                    "unique_count": 5,
                    "nan_count": 0,
                    "categories": [
                      {
                        "name": "3929214",
                        "count": 1
                      },
                      {
                        "name": "5308483",
                        "count": 1
                      },
                      {
                        "name": "3 others",
                        "count": 3
                      }
                    ]
                  }
                },
                {
                  "name": "Census Cost",
                  "dtype": "object",
                  "stats": {
                    "unique_count": 5,
                    "nan_count": 0,
                    "categories": [
                      {
                        "name": "44377",
                        "count": 1
                      },
                      {
                        "name": "66109",
                        "count": 1
                      },
                      {
                        "name": "3 others",
                        "count": 3
                      }
                    ]
                  }
                },
                {
                  "name": "_deepnote_index_column",
                  "dtype": "int64"
                }
              ],
              "rows_top": [
                {
                  "Census Year": "1790",
                  "Total Population": "3929214",
                  "Census Cost": "44377",
                  "_deepnote_index_column": 1
                },
                {
                  "Census Year": "1800",
                  "Total Population": "5308483",
                  "Census Cost": "66109",
                  "_deepnote_index_column": 2
                },
                {
                  "Census Year": "1810",
                  "Total Population": "7239881",
                  "Census Cost": "178445",
                  "_deepnote_index_column": 3
                },
                {
                  "Census Year": "1820",
                  "Total Population": "9633822",
                  "Census Cost": "208526",
                  "_deepnote_index_column": 4
                },
                {
                  "Census Year": "1830",
                  "Total Population": "12866020",
                  "Census Cost": "378545",
                  "_deepnote_index_column": 5
                }
              ],
              "rows_bottom": null
            },
            "text/plain": "  Census Year Total Population Census Cost\n1        1790          3929214       44377\n2        1800          5308483       66109\n3        1810          7239881      178445\n4        1820          9633822      208526\n5        1830         12866020      378545",
            "text/html": "<div>\n<style scoped>\n    .dataframe tbody tr th:only-of-type {\n        vertical-align: middle;\n    }\n\n    .dataframe tbody tr th {\n        vertical-align: top;\n    }\n\n    .dataframe thead th {\n        text-align: right;\n    }\n</style>\n<table border=\"1\" class=\"dataframe\">\n  <thead>\n    <tr style=\"text-align: right;\">\n      <th></th>\n      <th>Census Year</th>\n      <th>Total Population</th>\n      <th>Census Cost</th>\n    </tr>\n  </thead>\n  <tbody>\n    <tr>\n      <th>1</th>\n      <td>1790</td>\n      <td>3929214</td>\n      <td>44377</td>\n    </tr>\n    <tr>\n      <th>2</th>\n      <td>1800</td>\n      <td>5308483</td>\n      <td>66109</td>\n    </tr>\n    <tr>\n      <th>3</th>\n      <td>1810</td>\n      <td>7239881</td>\n      <td>178445</td>\n    </tr>\n    <tr>\n      <th>4</th>\n      <td>1820</td>\n      <td>9633822</td>\n      <td>208526</td>\n    </tr>\n    <tr>\n      <th>5</th>\n      <td>1830</td>\n      <td>12866020</td>\n      <td>378545</td>\n    </tr>\n  </tbody>\n</table>\n</div>"
          },
          "metadata": {}
        }
      ]
    },
    {
      "cell_type": "markdown",
      "source": "## Create a function to cleanse the forth column, test, and apply",
      "metadata": {
        "tags": [],
        "cell_id": "00017-9e9087de-0f9a-41ef-9d9a-df6cc7288123",
        "deepnote_cell_type": "markdown"
      }
    },
    {
      "cell_type": "code",
      "metadata": {
        "tags": [],
        "cell_id": "00011-bcbef321-5cb5-4e19-a72d-06e7aa190a2b",
        "deepnote_to_be_reexecuted": false,
        "source_hash": "f3a798d7",
        "execution_millis": 41,
        "execution_start": 1615561966460,
        "deepnote_cell_type": "code"
      },
      "source": "def cleanse_avg(avg):\n    if ' cents' in avg:\n        avg=avg.replace(' cents','')\n        avg=str(round(float(avg)/100,2))\n    if '$' in avg:\n        avg=avg.replace('$','')\n    return(avg)\n\n# Test the function\nprint(cleanse_avg('$4.76'))\nprint(cleanse_avg('17.07 cents'))",
      "execution_count": 11,
      "outputs": [
        {
          "name": "stdout",
          "text": "4.76\n0.17\n",
          "output_type": "stream"
        }
      ]
    },
    {
      "cell_type": "code",
      "metadata": {
        "tags": [],
        "cell_id": "00012-1aec66cc-a6cb-446e-bf1e-90b4192eb562",
        "deepnote_to_be_reexecuted": false,
        "source_hash": "47888908",
        "execution_millis": 4,
        "execution_start": 1615561966497,
        "deepnote_cell_type": "code"
      },
      "source": "# Add the cleansed data to the new dataframe with .apply() \ndfc['Average Cost Per Person']=df1['Average Cost Per Person'].apply(cleanse_avg)\ndfc.head()",
      "execution_count": 12,
      "outputs": [
        {
          "output_type": "execute_result",
          "execution_count": 12,
          "data": {
            "application/vnd.deepnote.dataframe.v2+json": {
              "row_count": 5,
              "column_count": 4,
              "columns": [
                {
                  "name": "Census Year",
                  "dtype": "object",
                  "stats": {
                    "unique_count": 5,
                    "nan_count": 0,
                    "categories": [
                      {
                        "name": "1790",
                        "count": 1
                      },
                      {
                        "name": "1800",
                        "count": 1
                      },
                      {
                        "name": "3 others",
                        "count": 3
                      }
                    ]
                  }
                },
                {
                  "name": "Total Population",
                  "dtype": "object",
                  "stats": {
                    "unique_count": 5,
                    "nan_count": 0,
                    "categories": [
                      {
                        "name": "3929214",
                        "count": 1
                      },
                      {
                        "name": "5308483",
                        "count": 1
                      },
                      {
                        "name": "3 others",
                        "count": 3
                      }
                    ]
                  }
                },
                {
                  "name": "Census Cost",
                  "dtype": "object",
                  "stats": {
                    "unique_count": 5,
                    "nan_count": 0,
                    "categories": [
                      {
                        "name": "44377",
                        "count": 1
                      },
                      {
                        "name": "66109",
                        "count": 1
                      },
                      {
                        "name": "3 others",
                        "count": 3
                      }
                    ]
                  }
                },
                {
                  "name": "Average Cost Per Person",
                  "dtype": "object",
                  "stats": {
                    "unique_count": 3,
                    "nan_count": 0,
                    "categories": [
                      {
                        "name": "0.01",
                        "count": 2
                      },
                      {
                        "name": "0.02",
                        "count": 2
                      },
                      {
                        "name": "0.03",
                        "count": 1
                      }
                    ]
                  }
                },
                {
                  "name": "_deepnote_index_column",
                  "dtype": "int64"
                }
              ],
              "rows_top": [
                {
                  "Census Year": "1790",
                  "Total Population": "3929214",
                  "Census Cost": "44377",
                  "Average Cost Per Person": "0.01",
                  "_deepnote_index_column": 1
                },
                {
                  "Census Year": "1800",
                  "Total Population": "5308483",
                  "Census Cost": "66109",
                  "Average Cost Per Person": "0.01",
                  "_deepnote_index_column": 2
                },
                {
                  "Census Year": "1810",
                  "Total Population": "7239881",
                  "Census Cost": "178445",
                  "Average Cost Per Person": "0.02",
                  "_deepnote_index_column": 3
                },
                {
                  "Census Year": "1820",
                  "Total Population": "9633822",
                  "Census Cost": "208526",
                  "Average Cost Per Person": "0.02",
                  "_deepnote_index_column": 4
                },
                {
                  "Census Year": "1830",
                  "Total Population": "12866020",
                  "Census Cost": "378545",
                  "Average Cost Per Person": "0.03",
                  "_deepnote_index_column": 5
                }
              ],
              "rows_bottom": null
            },
            "text/plain": "  Census Year Total Population Census Cost Average Cost Per Person\n1        1790          3929214       44377                    0.01\n2        1800          5308483       66109                    0.01\n3        1810          7239881      178445                    0.02\n4        1820          9633822      208526                    0.02\n5        1830         12866020      378545                    0.03",
            "text/html": "<div>\n<style scoped>\n    .dataframe tbody tr th:only-of-type {\n        vertical-align: middle;\n    }\n\n    .dataframe tbody tr th {\n        vertical-align: top;\n    }\n\n    .dataframe thead th {\n        text-align: right;\n    }\n</style>\n<table border=\"1\" class=\"dataframe\">\n  <thead>\n    <tr style=\"text-align: right;\">\n      <th></th>\n      <th>Census Year</th>\n      <th>Total Population</th>\n      <th>Census Cost</th>\n      <th>Average Cost Per Person</th>\n    </tr>\n  </thead>\n  <tbody>\n    <tr>\n      <th>1</th>\n      <td>1790</td>\n      <td>3929214</td>\n      <td>44377</td>\n      <td>0.01</td>\n    </tr>\n    <tr>\n      <th>2</th>\n      <td>1800</td>\n      <td>5308483</td>\n      <td>66109</td>\n      <td>0.01</td>\n    </tr>\n    <tr>\n      <th>3</th>\n      <td>1810</td>\n      <td>7239881</td>\n      <td>178445</td>\n      <td>0.02</td>\n    </tr>\n    <tr>\n      <th>4</th>\n      <td>1820</td>\n      <td>9633822</td>\n      <td>208526</td>\n      <td>0.02</td>\n    </tr>\n    <tr>\n      <th>5</th>\n      <td>1830</td>\n      <td>12866020</td>\n      <td>378545</td>\n      <td>0.03</td>\n    </tr>\n  </tbody>\n</table>\n</div>"
          },
          "metadata": {}
        }
      ]
    },
    {
      "cell_type": "markdown",
      "source": "## Save the cleansed dataframe as a csv",
      "metadata": {
        "tags": [],
        "cell_id": "00020-9693108f-128f-4e72-97c8-cbcfc6d4d873",
        "deepnote_cell_type": "markdown"
      }
    },
    {
      "cell_type": "code",
      "metadata": {
        "tags": [],
        "cell_id": "00015-ce0cf396-2f88-462a-b84c-e862703043bd",
        "deepnote_to_be_reexecuted": false,
        "source_hash": "48c8bfe5",
        "execution_millis": 4,
        "execution_start": 1615561966499,
        "deepnote_cell_type": "code"
      },
      "source": "dfc.to_csv('census_cost_cleansed.csv',index=False)",
      "execution_count": 13,
      "outputs": []
    },
    {
      "cell_type": "markdown",
      "source": "## Read the csv and explore",
      "metadata": {
        "tags": [],
        "cell_id": "00022-8f74661d-9241-45d7-858f-b403bee3c2b3",
        "deepnote_cell_type": "markdown"
      }
    },
    {
      "cell_type": "code",
      "metadata": {
        "tags": [],
        "cell_id": "00015-2d745d07-ba47-46db-8e08-56d2cc4438eb",
        "deepnote_to_be_reexecuted": false,
        "source_hash": "f2488d64",
        "execution_millis": 48,
        "execution_start": 1615561966546,
        "deepnote_cell_type": "code"
      },
      "source": "cleansed_df=pd.read_csv('census_cost_cleansed.csv')\n# .info() will display the type of data in each column\ncleansed_df.info()",
      "execution_count": 14,
      "outputs": [
        {
          "name": "stdout",
          "text": "<class 'pandas.core.frame.DataFrame'>\nRangeIndex: 23 entries, 0 to 22\nData columns (total 4 columns):\n #   Column                   Non-Null Count  Dtype  \n---  ------                   --------------  -----  \n 0   Census Year              23 non-null     int64  \n 1   Total Population         23 non-null     int64  \n 2   Census Cost              23 non-null     int64  \n 3   Average Cost Per Person  23 non-null     float64\ndtypes: float64(1), int64(3)\nmemory usage: 864.0 bytes\n",
          "output_type": "stream"
        }
      ]
    },
    {
      "cell_type": "code",
      "metadata": {
        "tags": [],
        "cell_id": "00016-c35d3d39-9286-41ca-8751-9dc9a2e6c8c0",
        "deepnote_to_be_reexecuted": false,
        "source_hash": "73df2cc6",
        "execution_millis": 36,
        "execution_start": 1615561966591,
        "deepnote_cell_type": "code"
      },
      "source": "# .describe() will display statistics on the dataframe \ncleansed_df.describe()",
      "execution_count": 15,
      "outputs": [
        {
          "output_type": "execute_result",
          "execution_count": 15,
          "data": {
            "application/vnd.deepnote.dataframe.v2+json": {
              "row_count": 8,
              "column_count": 4,
              "columns": [
                {
                  "name": "Census Year",
                  "dtype": "float64",
                  "stats": {
                    "unique_count": 7,
                    "nan_count": 0,
                    "min": 23,
                    "max": 2010,
                    "histogram": [
                      {
                        "bin_start": 23,
                        "bin_end": 221.7,
                        "count": 2
                      },
                      {
                        "bin_start": 221.7,
                        "bin_end": 420.4,
                        "count": 0
                      },
                      {
                        "bin_start": 420.4,
                        "bin_end": 619.0999999999999,
                        "count": 0
                      },
                      {
                        "bin_start": 619.0999999999999,
                        "bin_end": 817.8,
                        "count": 0
                      },
                      {
                        "bin_start": 817.8,
                        "bin_end": 1016.5,
                        "count": 0
                      },
                      {
                        "bin_start": 1016.5,
                        "bin_end": 1215.1999999999998,
                        "count": 0
                      },
                      {
                        "bin_start": 1215.1999999999998,
                        "bin_end": 1413.8999999999999,
                        "count": 0
                      },
                      {
                        "bin_start": 1413.8999999999999,
                        "bin_end": 1612.6,
                        "count": 0
                      },
                      {
                        "bin_start": 1612.6,
                        "bin_end": 1811.3,
                        "count": 1
                      },
                      {
                        "bin_start": 1811.3,
                        "bin_end": 2010,
                        "count": 5
                      }
                    ]
                  }
                },
                {
                  "name": "Total Population",
                  "dtype": "float64",
                  "stats": {
                    "unique_count": 8,
                    "nan_count": 0,
                    "min": 23,
                    "max": 308745538,
                    "histogram": [
                      {
                        "bin_start": 23,
                        "bin_end": 30874574.5,
                        "count": 3
                      },
                      {
                        "bin_start": 30874574.5,
                        "bin_end": 61749126,
                        "count": 0
                      },
                      {
                        "bin_start": 61749126,
                        "bin_end": 92623677.5,
                        "count": 1
                      },
                      {
                        "bin_start": 92623677.5,
                        "bin_end": 123498229,
                        "count": 2
                      },
                      {
                        "bin_start": 123498229,
                        "bin_end": 154372780.5,
                        "count": 0
                      },
                      {
                        "bin_start": 154372780.5,
                        "bin_end": 185247332,
                        "count": 1
                      },
                      {
                        "bin_start": 185247332,
                        "bin_end": 216121883.5,
                        "count": 0
                      },
                      {
                        "bin_start": 216121883.5,
                        "bin_end": 246996435,
                        "count": 0
                      },
                      {
                        "bin_start": 246996435,
                        "bin_end": 277870986.5,
                        "count": 0
                      },
                      {
                        "bin_start": 277870986.5,
                        "bin_end": 308745538,
                        "count": 1
                      }
                    ]
                  }
                },
                {
                  "name": "Census Cost",
                  "dtype": "float64",
                  "stats": {
                    "unique_count": 8,
                    "nan_count": 0,
                    "min": 23,
                    "max": 13000000000,
                    "histogram": [
                      {
                        "bin_start": 23,
                        "bin_end": 1300000020.7,
                        "count": 6
                      },
                      {
                        "bin_start": 1300000020.7,
                        "bin_end": 2600000018.4,
                        "count": 0
                      },
                      {
                        "bin_start": 2600000018.4,
                        "bin_end": 3900000016.1000004,
                        "count": 1
                      },
                      {
                        "bin_start": 3900000016.1000004,
                        "bin_end": 5200000013.8,
                        "count": 0
                      },
                      {
                        "bin_start": 5200000013.8,
                        "bin_end": 6500000011.5,
                        "count": 0
                      },
                      {
                        "bin_start": 6500000011.5,
                        "bin_end": 7800000009.200001,
                        "count": 0
                      },
                      {
                        "bin_start": 7800000009.200001,
                        "bin_end": 9100000006.9,
                        "count": 0
                      },
                      {
                        "bin_start": 9100000006.9,
                        "bin_end": 10400000004.6,
                        "count": 0
                      },
                      {
                        "bin_start": 10400000004.6,
                        "bin_end": 11700000002.300001,
                        "count": 0
                      },
                      {
                        "bin_start": 11700000002.300001,
                        "bin_end": 13000000000,
                        "count": 1
                      }
                    ]
                  }
                },
                {
                  "name": "Average Cost Per Person",
                  "dtype": "float64",
                  "stats": {
                    "unique_count": 8,
                    "nan_count": 0,
                    "min": 0.01,
                    "max": 42.11,
                    "histogram": [
                      {
                        "bin_start": 0.01,
                        "bin_end": 4.22,
                        "count": 5
                      },
                      {
                        "bin_start": 4.22,
                        "bin_end": 8.43,
                        "count": 0
                      },
                      {
                        "bin_start": 8.43,
                        "bin_end": 12.639999999999999,
                        "count": 1
                      },
                      {
                        "bin_start": 12.639999999999999,
                        "bin_end": 16.85,
                        "count": 0
                      },
                      {
                        "bin_start": 16.85,
                        "bin_end": 21.060000000000002,
                        "count": 0
                      },
                      {
                        "bin_start": 21.060000000000002,
                        "bin_end": 25.27,
                        "count": 1
                      },
                      {
                        "bin_start": 25.27,
                        "bin_end": 29.48,
                        "count": 0
                      },
                      {
                        "bin_start": 29.48,
                        "bin_end": 33.69,
                        "count": 0
                      },
                      {
                        "bin_start": 33.69,
                        "bin_end": 37.9,
                        "count": 0
                      },
                      {
                        "bin_start": 37.9,
                        "bin_end": 42.11,
                        "count": 1
                      }
                    ]
                  }
                },
                {
                  "name": "_deepnote_index_column",
                  "dtype": "object"
                }
              ],
              "rows_top": [
                {
                  "Census Year": 23,
                  "Total Population": 23,
                  "Census Cost": 23,
                  "Average Cost Per Person": 23,
                  "_deepnote_index_column": "count"
                },
                {
                  "Census Year": 1900,
                  "Total Population": 103921110.30434783,
                  "Census Cost": 944558700.173913,
                  "Average Cost Per Person": 3.3682608695652174,
                  "_deepnote_index_column": "mean"
                },
                {
                  "Census Year": 67.82329983125268,
                  "Total Population": 96226290.93015984,
                  "Census Cost": 2830036862.658827,
                  "Average Cost Per Person": 9.2783989861956,
                  "_deepnote_index_column": "std"
                },
                {
                  "Census Year": 1790,
                  "Total Population": 3929214,
                  "Census Cost": 44377,
                  "Average Cost Per Person": 0.01,
                  "_deepnote_index_column": "min"
                },
                {
                  "Census Year": 1845,
                  "Total Population": 20130667,
                  "Census Cost": 1128361,
                  "Average Cost Per Person": 0.055,
                  "_deepnote_index_column": "25%"
                },
                {
                  "Census Year": 1900,
                  "Total Population": 76303387,
                  "Census Cost": 11854000,
                  "Average Cost Per Person": 0.17,
                  "_deepnote_index_column": "50%"
                },
                {
                  "Census Year": 1955,
                  "Total Population": 165324486.5,
                  "Census Cost": 109698000,
                  "Average Cost Per Person": 0.655,
                  "_deepnote_index_column": "75%"
                },
                {
                  "Census Year": 2010,
                  "Total Population": 308745538,
                  "Census Cost": 13000000000,
                  "Average Cost Per Person": 42.11,
                  "_deepnote_index_column": "max"
                }
              ],
              "rows_bottom": null
            },
            "text/plain": "       Census Year  Total Population   Census Cost  Average Cost Per Person\ncount      23.0000      2.300000e+01  2.300000e+01                23.000000\nmean     1900.0000      1.039211e+08  9.445587e+08                 3.368261\nstd        67.8233      9.622629e+07  2.830037e+09                 9.278399\nmin      1790.0000      3.929214e+06  4.437700e+04                 0.010000\n25%      1845.0000      2.013067e+07  1.128361e+06                 0.055000\n50%      1900.0000      7.630339e+07  1.185400e+07                 0.170000\n75%      1955.0000      1.653245e+08  1.096980e+08                 0.655000\nmax      2010.0000      3.087455e+08  1.300000e+10                42.110000",
            "text/html": "<div>\n<style scoped>\n    .dataframe tbody tr th:only-of-type {\n        vertical-align: middle;\n    }\n\n    .dataframe tbody tr th {\n        vertical-align: top;\n    }\n\n    .dataframe thead th {\n        text-align: right;\n    }\n</style>\n<table border=\"1\" class=\"dataframe\">\n  <thead>\n    <tr style=\"text-align: right;\">\n      <th></th>\n      <th>Census Year</th>\n      <th>Total Population</th>\n      <th>Census Cost</th>\n      <th>Average Cost Per Person</th>\n    </tr>\n  </thead>\n  <tbody>\n    <tr>\n      <th>count</th>\n      <td>23.0000</td>\n      <td>2.300000e+01</td>\n      <td>2.300000e+01</td>\n      <td>23.000000</td>\n    </tr>\n    <tr>\n      <th>mean</th>\n      <td>1900.0000</td>\n      <td>1.039211e+08</td>\n      <td>9.445587e+08</td>\n      <td>3.368261</td>\n    </tr>\n    <tr>\n      <th>std</th>\n      <td>67.8233</td>\n      <td>9.622629e+07</td>\n      <td>2.830037e+09</td>\n      <td>9.278399</td>\n    </tr>\n    <tr>\n      <th>min</th>\n      <td>1790.0000</td>\n      <td>3.929214e+06</td>\n      <td>4.437700e+04</td>\n      <td>0.010000</td>\n    </tr>\n    <tr>\n      <th>25%</th>\n      <td>1845.0000</td>\n      <td>2.013067e+07</td>\n      <td>1.128361e+06</td>\n      <td>0.055000</td>\n    </tr>\n    <tr>\n      <th>50%</th>\n      <td>1900.0000</td>\n      <td>7.630339e+07</td>\n      <td>1.185400e+07</td>\n      <td>0.170000</td>\n    </tr>\n    <tr>\n      <th>75%</th>\n      <td>1955.0000</td>\n      <td>1.653245e+08</td>\n      <td>1.096980e+08</td>\n      <td>0.655000</td>\n    </tr>\n    <tr>\n      <th>max</th>\n      <td>2010.0000</td>\n      <td>3.087455e+08</td>\n      <td>1.300000e+10</td>\n      <td>42.110000</td>\n    </tr>\n  </tbody>\n</table>\n</div>"
          },
          "metadata": {}
        }
      ]
    },
    {
      "cell_type": "markdown",
      "source": "<a style='text-decoration:none;line-height:16px;display:flex;color:#5B5B62;padding:10px;justify-content:end;' href='https://deepnote.com?utm_source=created-in-deepnote-cell&projectId=eb0a1b1e-7717-4570-b08b-c403cebb0472' target=\"_blank\">\n<img style='display:inline;max-height:16px;margin:0px;margin-right:7.5px;' src='data:image/svg+xml;base64,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' > </img>\nCreated in <span style='font-weight:600;margin-left:4px;'>Deepnote</span></a>",
      "metadata": {
        "tags": [],
        "created_in_deepnote_cell": true,
        "deepnote_cell_type": "markdown"
      }
    }
  ],
  "nbformat": 4,
  "nbformat_minor": 2,
  "metadata": {
    "orig_nbformat": 2,
    "deepnote_notebook_id": "8437974e-01fd-433c-90ed-b86a2da1419e",
    "deepnote": {},
    "deepnote_execution_queue": []
  }
}